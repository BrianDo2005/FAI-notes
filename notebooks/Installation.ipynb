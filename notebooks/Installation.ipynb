{
 "cells": [
  {
   "cell_type": "markdown",
   "metadata": {},
   "source": [
    "Fastai library can be found at https://github.com/fastai/fastai. There are a couple of ways to install it and I will mention the ones that I found to be fast. I will also be mentioning the recommended way, few hacks that worked for me, solutions to few issues. Most of the problem for me was because of low internet speeds (I live in India, the network is not terrible but definitely not superfast either)."
   ]
  },
  {
   "cell_type": "markdown",
   "metadata": {},
   "source": [
    "Note: You don't need to do the installation part if you are using paperspace. Have a look at this fantastic article https://github.com/reshamas/fastai_deeplearn_part1/blob/master/tools/paperspace.md which describes essentially what all you need to get started. Feel free to continue with the Confriming FastAI installation section"
   ]
  },
  {
   "cell_type": "markdown",
   "metadata": {},
   "source": [
    "## Recommended Way"
   ]
  },
  {
   "cell_type": "markdown",
   "metadata": {},
   "source": [
    "1. Go to https://github.com/fastai/fastai\n",
    "2. Clone the repo to a folder (this could be any directory).\n",
    "3. `cd` into the folder.\n",
    "4. Note this assumes you have installed anaconda or miniconda. See https://conda.io/docs/user-guide/install/download.html for download and installation of anaconda/miniconda instructions.\n",
    "5. Run `conda env update`. If you are installing for only cpu, do `conda env update -f environment-cpu.yml`. This creates a conda environment with the name `fastai`. If you want to use a different name you could either run `conda env update -n env_name` replacing `env_name` with whatever name you want.\n",
    "6. Step5 could take quite some time depending on your internet speed. Once that is done, simply activate the conda environment using `source activate fastai`."
   ]
  },
  {
   "cell_type": "markdown",
   "metadata": {},
   "source": [
    "## Another Way"
   ]
  },
  {
   "cell_type": "markdown",
   "metadata": {},
   "source": [
    "1. Repeat steps 1-4 as in the recommended way.\n",
    "2. Instead of running `conda env update` you can create your own environment first and then install everything via `pip`. From what I have noticed is that installing a package via `pip` is much faster than installing via `conda`.\n",
    "3. Continue with step6"
   ]
  },
  {
   "cell_type": "markdown",
   "metadata": {},
   "source": [
    "## Confirming FastAI installtion"
   ]
  },
  {
   "cell_type": "markdown",
   "metadata": {},
   "source": [
    "1. `cd` into `fastai/courses/dl1/`. Ensure you have activated the `fastai` environemnt. Open `python` or `ipython`. \n",
    "2. Run `import fastai`\n",
    "3. If step2 is successful, run the following commands as well to be sure everything is setup correctly and gives no errors."
   ]
  },
  {
   "cell_type": "code",
   "execution_count": 1,
   "metadata": {},
   "outputs": [],
   "source": [
    "from fastai.imports import *\n",
    "from fastai.transforms import *\n",
    "from fastai.conv_learner import *\n",
    "from fastai.model import *\n",
    "from fastai.dataset import *\n",
    "from fastai.sgdr import *\n",
    "from fastai.plots import *"
   ]
  },
  {
   "cell_type": "markdown",
   "metadata": {},
   "source": [
    "4. If everything works without errors then voila fastai is ready to use.\n",
    "5. Have a look at common installation problems (section) that I faced."
   ]
  },
  {
   "cell_type": "markdown",
   "metadata": {},
   "source": [
    "## Using FastAI in your project"
   ]
  },
  {
   "cell_type": "markdown",
   "metadata": {},
   "source": [
    "Most often than not you would like to use the fastai library in one of your projects. There are two ways to `import fastai` in your project. "
   ]
  },
  {
   "cell_type": "markdown",
   "metadata": {},
   "source": [
    "* ### Method-1: "
   ]
  },
  {
   "cell_type": "markdown",
   "metadata": {},
   "source": [
    "You can add the fastai library path to your python path variable. To do it for the current terminal session do: \n",
    "\n",
    "`export PYTHONPATH=/pathtofastaidirectory/:$PYTHONPATH`"
   ]
  },
  {
   "cell_type": "markdown",
   "metadata": {},
   "source": [
    "To do it across all terminal sessions add the above line to your `~/.bashrc` file and do `source ~/.bashrc`\n",
    "\n",
    "Re-activate the fastai conda environment and now `import fastai` should work from any directory"
   ]
  },
  {
   "cell_type": "markdown",
   "metadata": {},
   "source": [
    "* ### Method-2:"
   ]
  },
  {
   "cell_type": "markdown",
   "metadata": {},
   "source": [
    "You can add the following two lines to the top of your code:\n",
    "\n",
    "`import sys`\n",
    "\n",
    "`sys.path.append('/pathtofastaidirectory')`\n",
    "\n",
    "After this `import fastai` should work flawlessly."
   ]
  },
  {
   "cell_type": "markdown",
   "metadata": {},
   "source": [
    "## Common Installation Problems"
   ]
  },
  {
   "cell_type": "markdown",
   "metadata": {},
   "source": [
    "There were a couple of installation problems that I faced. I later found out they were not related to fastai. I will detail those solutions here."
   ]
  },
  {
   "cell_type": "markdown",
   "metadata": {},
   "source": [
    "1. Error: Remote Kernels: \"'_xsrf' argument missing from POST\". This error arised when I tried to open my jupyter notebook in paperspace. For me it happened when I tried to open jupyter notebook in paperspace and tried to access it from my local machine changin localhost with the appropriate public id of the paperspace. \n",
    "    \n",
    "    + First is to do ssh tuneling. See https://www.ssh.com/ssh/tunneling/example for better explanation. You can do this when connecting via ssh by appending -L option. For example you could do: `ssh -L 8888:localhost:8888 paperspace@ip-add`. This forwards the port 8888 on server side to your localmachine. For me doing this in itself solved the problem. Also note, you might need to add `-4` option with `ssh` in case you get any error in binding the port.\n",
    "    \n",
    "    + Second (and the not recommended way) is to do `c.NotebookApp.disable_check_xsrf = True` in jupyter_notebook_config.py. (Taken from @kylebarron's solution). The jupyter_notebook_config.py is located inside .jupyter directory which is located inside `$HOME`. If the .jupyter folder does not contain a jupyter_notebook_config.py file, you need to generate it with `jupyter notebook --generate-config`. What this essentially does is removes the `_xsrf` check from the browser. "
   ]
  },
  {
   "cell_type": "markdown",
   "metadata": {},
   "source": [
    "2. Error: QXcbConnection: Could not connect to display. Aborted (core dumped). \n",
    "\n",
    "You can reproduce this error by opening ipython, and running `import matplotlib.pyplot as plt` on your terminal itself. I solved this by appending these two lines before every notebook:"
   ]
  },
  {
   "cell_type": "code",
   "execution_count": 1,
   "metadata": {},
   "outputs": [],
   "source": [
    "import  matplotlib\n",
    "matplotlib.use('Agg')"
   ]
  },
  {
   "cell_type": "markdown",
   "metadata": {},
   "source": [
    "Refer https://github.com/ipython/ipython/issues/10627 for more information on this issue."
   ]
  },
  {
   "cell_type": "markdown",
   "metadata": {},
   "source": [
    "### Other Problems"
   ]
  },
  {
   "cell_type": "markdown",
   "metadata": {},
   "source": [
    "If you are facing other problems feel free to ask on the forums at http://forums.fast.ai/. It is an amazing community and it is likely someone else might have encountered the same problem already."
   ]
  }
 ],
 "metadata": {
  "kernelspec": {
   "display_name": "Python 3",
   "language": "python",
   "name": "python3"
  },
  "language_info": {
   "codemirror_mode": {
    "name": "ipython",
    "version": 3
   },
   "file_extension": ".py",
   "mimetype": "text/x-python",
   "name": "python",
   "nbconvert_exporter": "python",
   "pygments_lexer": "ipython3",
   "version": "3.6.5"
  }
 },
 "nbformat": 4,
 "nbformat_minor": 2
}
